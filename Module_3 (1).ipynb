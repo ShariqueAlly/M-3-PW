{
  "nbformat": 4,
  "nbformat_minor": 0,
  "metadata": {
    "colab": {
      "provenance": []
    },
    "kernelspec": {
      "name": "python3",
      "display_name": "Python 3"
    },
    "language_info": {
      "name": "python"
    }
  },
  "cells": [
    {
      "cell_type": "markdown",
      "source": [],
      "metadata": {
        "id": "HlrN0oPecS5X"
      }
    },
    {
      "cell_type": "markdown",
      "source": [
        "Q-1 Write a simple program in HTML that displays the heading \"HTML defines the content and structure of your website on the web browser."
      ],
      "metadata": {
        "id": "e2ZGNUVqcUno"
      }
    },
    {
      "cell_type": "code",
      "source": [
        "<!DOCTYPE html>\n",
        "<html>\n",
        "<head>\n",
        "  <title>Simple Heading</title>\n",
        "</head>\n",
        "<body>\n",
        "  <h1>HTML defines the content and structure of your website</h1>\n",
        "</body>\n",
        "</html>\n"
      ],
      "metadata": {
        "id": "6Y5QCfNzcnCP"
      },
      "execution_count": null,
      "outputs": []
    },
    {
      "cell_type": "markdown",
      "source": [
        "Q-2 Explain the purpose of comments in HTML and provide an example of how to use comments in an HTML document."
      ],
      "metadata": {
        "id": "HvdIqveJcq-_"
      }
    },
    {
      "cell_type": "code",
      "source": [
        "Purpose of comments in HTML:\n",
        "\n",
        "Comments are used to explain the code.\n",
        "\n",
        "They help developers understand the structure or purpose of certain parts of the HTML.\n",
        "\n",
        "Comments are ignored by the browser and not shown on the webpage.\n",
        "\n",
        "<!DOCTYPE html>\n",
        "<html>\n",
        "<head>\n",
        "  <title>Comment Example</title>\n",
        "</head>\n",
        "<body>\n",
        "  <!-- This is the main heading of the page -->\n",
        "  <h1>Welcome to My Website</h1>\n",
        "\n",
        "  <!-- This is a short description -->\n",
        "  <p>This website is built using HTML.</p>\n",
        "</body>\n",
        "</html>\n"
      ],
      "metadata": {
        "id": "88ZxdMFdc0mI"
      },
      "execution_count": null,
      "outputs": []
    },
    {
      "cell_type": "markdown",
      "source": [
        "Q-3 Write an HTML program that includes a heading, a paragraph of text, a horizontal line, and a line break.\n",
        "Arrange these elements to create a simple web page layout."
      ],
      "metadata": {
        "id": "QnaInne2dKhI"
      }
    },
    {
      "cell_type": "code",
      "source": [
        "<!DOCTYPE html>\n",
        "<html>\n",
        "<head>\n",
        "  <title>Simple Web Page Layout</title>\n",
        "</head>\n",
        "<body>\n",
        "  <h1>Welcome to My Simple Web Page</h1>\n",
        "\n",
        "  <hr> <!-- Horizontal line -->\n",
        "\n",
        "  <p>This is a paragraph of text explaining the purpose of the page.<br>\n",
        "  It continues on the next line using a line break.</p>\n",
        "\n",
        "  <hr> <!-- Another horizontal line -->\n",
        "\n",
        "  <p>Thank you for visiting!</p>\n",
        "</body>\n",
        "</html>\n"
      ],
      "metadata": {
        "id": "Ggb3RaGAdXPo"
      },
      "execution_count": null,
      "outputs": []
    },
    {
      "cell_type": "markdown",
      "source": [
        "Q-4 Write a short note on Tag and element with an example$"
      ],
      "metadata": {
        "id": "IvWJgfmDfHwH"
      }
    },
    {
      "cell_type": "code",
      "source": [
        "A tag is a keyword enclosed in angle brackets (< >) that defines the start or end of an HTML element.\n",
        "\n",
        "Example: <p> is an opening tag, and </p> is a closing tag.\n",
        "\n",
        "Element:\n",
        "\n",
        "An element is the complete structure that includes the opening tag, content, and closing tag.\n",
        "\n"
      ],
      "metadata": {
        "id": "y2GuOi-kdh7Q"
      },
      "execution_count": null,
      "outputs": []
    },
    {
      "cell_type": "markdown",
      "source": [
        "Q-5 What is the DOCTYPE Declaration in HTML?\n",
        "The DOCTYPE declaration in HTML tells the web browser what version of HTML the page is written in.\n",
        "It helps the browser render the page correctly."
      ],
      "metadata": {
        "id": "sWHI50ipfOfp"
      }
    },
    {
      "cell_type": "markdown",
      "source": [
        "The DOCTYPE declaration in HTML tells the web browser what version of HTML the page is written in.\n",
        "It helps the browser render the page correctly."
      ],
      "metadata": {
        "id": "7IAaTwJYh_ov"
      }
    }
  ]
}